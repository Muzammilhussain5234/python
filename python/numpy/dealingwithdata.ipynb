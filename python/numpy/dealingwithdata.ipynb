{
 "cells": [
  {
   "cell_type": "code",
   "execution_count": 4,
   "id": "784a2354",
   "metadata": {},
   "outputs": [],
   "source": [
    "import numpy as np\n",
    "import matplotlib.pyplot as plt\n",
    "sales_data = np.array([\n",
    "    [1, 150000, 180000, 220000, 250000],  # Paradise Biryani\n",
    "    [2, 120000, 140000, 160000, 190000],  # Beijing Bites\n",
    "    [3, 200000, 230000, 260000, 300000],  # Pizza Hub\n",
    "    [4, 180000, 210000, 240000, 270000],  # Burger Point\n",
    "    [5, 160000, 185000, 205000, 230000]   # Chai Point\n",
    "])"
   ]
  },
  {
   "cell_type": "markdown",
   "id": "ae5e692a",
   "metadata": {},
   "source": [
    "##YEARLY SALE DATA\n"
   ]
  },
  {
   "cell_type": "code",
   "execution_count": 11,
   "id": "2733c88a",
   "metadata": {},
   "outputs": [
    {
     "name": "stdout",
     "output_type": "stream",
     "text": [
      "[ 810000  945000 1085000 1240000]\n",
      "4080015\n"
     ]
    }
   ],
   "source": [
    "a=np.sum(sales_data,axis=0)\n",
    "print(a[1:])\n",
    "b=np.sum(a)\n",
    "print(b)\n",
    "\n",
    "     \n",
    "\n",
    "\n"
   ]
  },
  {
   "cell_type": "markdown",
   "id": "2ad09330",
   "metadata": {},
   "source": [
    "##minimum sale pr category"
   ]
  },
  {
   "cell_type": "code",
   "execution_count": null,
   "id": "65df079d",
   "metadata": {},
   "outputs": [
    {
     "name": "stdout",
     "output_type": "stream",
     "text": [
      "[150000 120000 200000 180000 160000]\n"
     ]
    }
   ],
   "source": [
    "sales_data = np.array([\n",
    "    [1, 150000, 180000, 220000, 250000],  # Paradise Biryani\n",
    "    [2, 120000, 140000, 160000, 190000],  # Beijing Bites\n",
    "    [3, 200000, 230000, 260000, 300000],  # Pizza Hub\n",
    "    [4, 180000, 210000, 240000, 270000],  # Burger Point\n",
    "    [5, 160000, 185000, 205000, 230000]   # Chai Point\n",
    "])\n",
    "\n",
    "\n",
    "min_sales = np.min(sales_data[0:,1:], axis=1)\n",
    "print(min_sales)"
   ]
  },
  {
   "cell_type": "markdown",
   "id": "efe93923",
   "metadata": {},
   "source": [
    "##maximum sales "
   ]
  },
  {
   "cell_type": "code",
   "execution_count": 23,
   "id": "917e84cd",
   "metadata": {},
   "outputs": [
    {
     "name": "stdout",
     "output_type": "stream",
     "text": [
      "[250000 190000 300000 270000 230000]\n"
     ]
    }
   ],
   "source": [
    "max_sales = np.max(sales_data[0:], axis=1)\n",
    "print(max_sales)"
   ]
  },
  {
   "cell_type": "markdown",
   "id": "2a2e8248",
   "metadata": {},
   "source": [
    "##averagee per year"
   ]
  },
  {
   "cell_type": "code",
   "execution_count": 24,
   "id": "d595c6d8",
   "metadata": {},
   "outputs": [
    {
     "name": "stdout",
     "output_type": "stream",
     "text": [
      "[162000. 189000. 217000. 248000.]\n"
     ]
    }
   ],
   "source": [
    "avg=np.mean(sales_data[0:,1:], axis=0)\n",
    "print(avg)"
   ]
  },
  {
   "cell_type": "code",
   "execution_count": 25,
   "id": "da6ed756",
   "metadata": {},
   "outputs": [
    {
     "data": {
      "text/plain": [
       "Text(0.5, 1.0, 'average')"
      ]
     },
     "execution_count": 25,
     "metadata": {},
     "output_type": "execute_result"
    },
    {
     "data": {
      "image/png": "[encoded data removed]",
      "text/plain": [
       "<Figure size 640x480 with 1 Axes>"
      ]
     },
     "metadata": {},
     "output_type": "display_data"
    }
   ],
   "source": [
    "plt.Figure(figsize=(10,6))\n",
    "plt.plot(avg)\n",
    "plt.xlabel(\"average\")\n",
    "plt.ylabel(\"sales\")\n",
    "plt.title(\"average\")\n"
   ]
  },
  {
   "cell_type": "markdown",
   "id": "6a2c5481",
   "metadata": {},
   "source": [
    "##vectors\n"
   ]
  },
  {
   "cell_type": "code",
   "execution_count": 29,
   "id": "ec28a767",
   "metadata": {},
   "outputs": [
    {
     "name": "stdout",
     "output_type": "stream",
     "text": [
      "89.54430086935638\n"
     ]
    }
   ],
   "source": [
    "v1=np.array([1,2,3,4,5])\n",
    "v2=np.array([2,3,4,5,6])\n",
    "angle=np.dot(v1,v2)/(np.linalg.norm(v1))*np.linalg.norm(v2)\n",
    "print(angle)"
   ]
  },
  {
   "cell_type": "code",
   "execution_count": 35,
   "id": "ff4da614",
   "metadata": {},
   "outputs": [
    {
     "name": "stdout",
     "output_type": "stream",
     "text": [
      "['SAMOSA' 'SAMOSA' 'BIRYANI']\n"
     ]
    }
   ],
   "source": [
    "\n",
    "\n",
    "vector = np.array([\"samosa\", \"samosa\", \"biryani\"])\n",
    "capital = np.vectorize(str.upper)\n",
    "print(capital(vector))\n"
   ]
  }
 ],
 "metadata": {
  "kernelspec": {
   "display_name": ".venv",
   "language": "python",
   "name": "python3"
  },
  "language_info": {
   "codemirror_mode": {
    "name": "ipython",
    "version": 3
   },
   "file_extension": ".py",
   "mimetype": "text/x-python",
   "name": "python",
   "nbconvert_exporter": "python",
   "pygments_lexer": "ipython3",
   "version": "3.13.5"
  }
 },
 "nbformat": 4,
 "nbformat_minor": 5
}
