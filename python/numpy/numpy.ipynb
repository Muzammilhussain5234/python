{
 "cells": [
  {
   "cell_type": "code",
   "execution_count": 2,
   "id": "b147a9f4",
   "metadata": {},
   "outputs": [
    {
     "data": {
      "text/plain": [
       "array([[   1,    4,    9,   16],\n",
       "       [  25, 4489,   49,   25]])"
      ]
     },
     "execution_count": 2,
     "metadata": {},
     "output_type": "execute_result"
    }
   ],
   "source": [
    "import numpy as np\n",
    "import time\n",
    "arr_1d=np.array([1,2,3,4,5,67,7])\n",
    "arr_1d\n",
    "arr_2d=np.array([[1,2,3,4],[5,67,7,5]])\n",
    "arr_3=np.array([[1,2,3,4],[5,67,7,5]])\n",
    "\n",
    "#multiply matrices element wise multiplication\n",
    "arr_2d*arr_3   "
   ]
  },
  {
   "cell_type": "code",
   "execution_count": 3,
   "id": "76af0206",
   "metadata": {},
   "outputs": [
    {
     "data": {
      "text/plain": [
       "[1, 2, 3, 4, 1, 2, 3, 4]"
      ]
     },
     "execution_count": 3,
     "metadata": {},
     "output_type": "execute_result"
    }
   ],
   "source": [
    "#list\n",
    "list=[1,2,3,4]\n",
    "#multiply list\n",
    "list*2"
   ]
  },
  {
   "cell_type": "code",
   "execution_count": 4,
   "id": "a3dd630a",
   "metadata": {},
   "outputs": [
    {
     "data": {
      "text/plain": [
       "0.046547651290893555"
      ]
     },
     "execution_count": 4,
     "metadata": {},
     "output_type": "execute_result"
    }
   ],
   "source": [
    "start=time.time()\n",
    "list=[i*2 for i in range(1000000)]\n",
    "time.time()-start\n"
   ]
  },
  {
   "cell_type": "code",
   "execution_count": 5,
   "id": "113c46ad",
   "metadata": {},
   "outputs": [
    {
     "data": {
      "text/plain": [
       "0.0025141239166259766"
      ]
     },
     "execution_count": 5,
     "metadata": {},
     "output_type": "execute_result"
    }
   ],
   "source": [
    "start=time.time()\n",
    "spdi=np.arange(1000000)\n",
    "time.time()-start"
   ]
  },
  {
   "cell_type": "code",
   "execution_count": 6,
   "id": "73801e3e",
   "metadata": {},
   "outputs": [
    {
     "data": {
      "text/plain": [
       "array([[0., 0., 0.],\n",
       "       [0., 0., 0.]])"
      ]
     },
     "execution_count": 6,
     "metadata": {},
     "output_type": "execute_result"
    }
   ],
   "source": [
    "zeros=np.zeros((2,3))\n",
    "zeros\n"
   ]
  },
  {
   "cell_type": "code",
   "execution_count": 7,
   "id": "22891501",
   "metadata": {},
   "outputs": [
    {
     "data": {
      "text/plain": [
       "array([[1., 1., 1., 1., 1., 1.],\n",
       "       [1., 1., 1., 1., 1., 1.],\n",
       "       [1., 1., 1., 1., 1., 1.],\n",
       "       [1., 1., 1., 1., 1., 1.],\n",
       "       [1., 1., 1., 1., 1., 1.]])"
      ]
     },
     "execution_count": 7,
     "metadata": {},
     "output_type": "execute_result"
    }
   ],
   "source": [
    "ones=np.ones((5,6))\n",
    "ones"
   ]
  },
  {
   "cell_type": "code",
   "execution_count": 8,
   "id": "8786aaff",
   "metadata": {},
   "outputs": [
    {
     "data": {
      "text/plain": [
       "array([[10, 10, 10, 10],\n",
       "       [10, 10, 10, 10]])"
      ]
     },
     "execution_count": 8,
     "metadata": {},
     "output_type": "execute_result"
    }
   ],
   "source": [
    "#create the matrices of ur reqyuired num\n",
    "full=np.full((2,4),10)\n",
    "full"
   ]
  },
  {
   "cell_type": "code",
   "execution_count": 9,
   "id": "f082dc02",
   "metadata": {},
   "outputs": [
    {
     "data": {
      "text/plain": [
       "array([[0.18798199, 0.8061396 , 0.18314873, 0.29140372, 0.04267477],\n",
       "       [0.49406203, 0.40802233, 0.03487241, 0.03726077, 0.70556336],\n",
       "       [0.23377796, 0.79139262, 0.63227236, 0.34654933, 0.83090138]])"
      ]
     },
     "execution_count": 9,
     "metadata": {},
     "output_type": "execute_result"
    }
   ],
   "source": [
    "random=np.random.random((3,5))\n",
    "random"
   ]
  },
  {
   "cell_type": "code",
   "execution_count": 10,
   "id": "83094134",
   "metadata": {},
   "outputs": [
    {
     "data": {
      "text/plain": [
       "array([ 1,  5,  9, 13, 17, 21, 25, 29, 33, 37, 41, 45, 49, 53, 57, 61, 65,\n",
       "       69, 73, 77, 81, 85, 89, 93, 97])"
      ]
     },
     "execution_count": 10,
     "metadata": {},
     "output_type": "execute_result"
    }
   ],
   "source": [
    "#(start,end,gapor differecne)\n",
    "sequence=np.arange(1,100,4)\n",
    "sequence"
   ]
  },
  {
   "cell_type": "code",
   "execution_count": 11,
   "id": "2aa35822",
   "metadata": {},
   "outputs": [
    {
     "data": {
      "text/plain": [
       "array([[[ 1,  2,  3,  4,  5],\n",
       "        [ 1,  2,  3,  4,  5],\n",
       "        [55, 66, 77, 88, 99]]])"
      ]
     },
     "execution_count": 11,
     "metadata": {},
     "output_type": "execute_result"
    }
   ],
   "source": [
    "#vector or list are discuss previos\n",
    "tensor=np.array([[[1,2,3,4,5],[1,2,3,4,5],[55,66,77,88,99]]])\n",
    "tensor"
   ]
  },
  {
   "cell_type": "markdown",
   "id": "14b91a62",
   "metadata": {},
   "source": [
    "Properties of numpy array\n"
   ]
  },
  {
   "cell_type": "code",
   "execution_count": 12,
   "id": "2b43c47c",
   "metadata": {},
   "outputs": [
    {
     "name": "stdout",
     "output_type": "stream",
     "text": [
      "(1, 3, 5)\n",
      "3\n",
      "int64\n"
     ]
    },
    {
     "data": {
      "text/plain": [
       "<function ndarray.diagonal>"
      ]
     },
     "execution_count": 12,
     "metadata": {},
     "output_type": "execute_result"
    }
   ],
   "source": [
    "tensor=np.array([[[1,2,3,4,5],[1,2,3,4,5],[55,66,77,88,99]]])\n",
    "print(tensor.shape)\n",
    "print(tensor.ndim)\n",
    "print(tensor.dtype)\n",
    "tensor.diagonal\n"
   ]
  },
  {
   "cell_type": "code",
   "execution_count": 13,
   "id": "832c105e",
   "metadata": {},
   "outputs": [
    {
     "name": "stdout",
     "output_type": "stream",
     "text": [
      "[[ 1  2  3  4]\n",
      " [ 5  6  7  8]\n",
      " [ 9 10 11 12]\n",
      " [13 14 15 16]\n",
      " [17 18 19 20]]\n",
      "[[ 1  5  9 13 17]\n",
      " [ 2  6 10 14 18]\n",
      " [ 3  7 11 15 19]\n",
      " [ 4  8 12 16 20]]\n"
     ]
    }
   ],
   "source": [
    "lst = np.arange(1, 21)\n",
    "c = lst.reshape(5, 4)\n",
    "\n",
    "print(c)\n",
    "\n",
    "print(c.transpose())"
   ]
  },
  {
   "cell_type": "code",
   "execution_count": null,
   "id": "7b765b85",
   "metadata": {},
   "outputs": [],
   "source": []
  }
 ],
 "metadata": {
  "kernelspec": {
   "display_name": "Python 3",
   "language": "python",
   "name": "python3"
  },
  "language_info": {
   "codemirror_mode": {
    "name": "ipython",
    "version": 3
   },
   "file_extension": ".py",
   "mimetype": "text/x-python",
   "name": "python",
   "nbconvert_exporter": "python",
   "pygments_lexer": "ipython3",
   "version": "3.13.5"
  }
 },
 "nbformat": 4,
 "nbformat_minor": 5
}
