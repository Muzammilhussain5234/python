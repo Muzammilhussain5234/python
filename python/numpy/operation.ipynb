{
 "cells": [
  {
   "cell_type": "markdown",
   "id": "5f6f9997",
   "metadata": {},
   "source": [
    "Operations in numpy\n",
    " "
   ]
  },
  {
   "cell_type": "code",
   "execution_count": 1,
   "id": "57693c32",
   "metadata": {},
   "outputs": [],
   "source": [
    "import numpy as np"
   ]
  },
  {
   "cell_type": "code",
   "execution_count": 6,
   "id": "72de630c",
   "metadata": {},
   "outputs": [
    {
     "data": {
      "text/plain": [
       "np.int64(17)"
      ]
     },
     "execution_count": 6,
     "metadata": {},
     "output_type": "execute_result"
    }
   ],
   "source": [
    "arr=np.arange(1,20)\n",
    "\n",
    "arr\n",
    "arr[2:20:4]\n",
    "#negative indexing\n",
    "arr[-3]"
   ]
  },
  {
   "cell_type": "code",
   "execution_count": 15,
   "id": "63d13b24",
   "metadata": {},
   "outputs": [
    {
     "name": "stdout",
     "output_type": "stream",
     "text": [
      "5\n",
      "[[1 2 3 4 5 6 7 8]\n",
      " [1 2 3 4 5 6 7 8]]\n"
     ]
    }
   ],
   "source": [
    "\n",
    "array_2d = np.array([[1,2,3,4,5,6,7,8],\n",
    "                     [1,2,3,4,5,6,7,8]])\n",
    "print(array_2d[1, 4])\n",
    "print(array_2d[:])\n"
   ]
  },
  {
   "cell_type": "code",
   "execution_count": null,
   "id": "2476ce6e",
   "metadata": {},
   "outputs": [],
   "source": [
    "#sorting of array\n",
    "array_2d = np.array([[1,3,5,2,4],[3,2,1,4,2]])\n",
    "print(np.sort(array_2d,axis=0))\n",
    "print(np.sort(array_2d,axis=1))\n"
   ]
  },
  {
   "cell_type": "code",
   "execution_count": 20,
   "id": "850460d3",
   "metadata": {},
   "outputs": [
    {
     "name": "stdout",
     "output_type": "stream",
     "text": [
      "[2 4 2 4 2]\n"
     ]
    }
   ],
   "source": [
    "#filter\n",
    "\n",
    "\n",
    "array_2d = np.array([[1, 3, 5, 2, 4],\n",
    "                     [3, 2, 1, 4, 2]])\n",
    "\n",
    "# Filter even numbers\n",
    "even = array_2d[array_2d % 2 == 0]\n",
    "\n",
    "print(even)\n",
    "\n"
   ]
  },
  {
   "cell_type": "markdown",
   "id": "e1213105",
   "metadata": {},
   "source": [
    "##use of where\n"
   ]
  },
  {
   "cell_type": "code",
   "execution_count": 32,
   "id": "f577250f",
   "metadata": {},
   "outputs": [
    {
     "name": "stdout",
     "output_type": "stream",
     "text": [
      "[[ 1  3  5 10 20]\n",
      " [ 3 10  1 20 10]]\n"
     ]
    }
   ],
   "source": [
    "where_result = np.where(array_2d % 2 == 0, array_2d * 5, array_2d)\n",
    "print(where_result)"
   ]
  },
  {
   "cell_type": "markdown",
   "id": "889f5004",
   "metadata": {},
   "source": [
    "##delete\n"
   ]
  },
  {
   "cell_type": "code",
   "execution_count": 34,
   "id": "4717a13d",
   "metadata": {},
   "outputs": [
    {
     "data": {
      "text/plain": [
       "array([ 1,  3,  5, 20])"
      ]
     },
     "execution_count": 34,
     "metadata": {},
     "output_type": "execute_result"
    }
   ],
   "source": [
    "arr=np.array([1,  3,  5,10, 20])\n",
    "delete=np.delete(arr,3)\n",
    "delete"
   ]
  },
  {
   "cell_type": "code",
   "execution_count": null,
   "id": "575afc63",
   "metadata": {},
   "outputs": [],
   "source": []
  }
 ],
 "metadata": {
  "kernelspec": {
   "display_name": ".venv",
   "language": "python",
   "name": "python3"
  },
  "language_info": {
   "codemirror_mode": {
    "name": "ipython",
    "version": 3
   },
   "file_extension": ".py",
   "mimetype": "text/x-python",
   "name": "python",
   "nbconvert_exporter": "python",
   "pygments_lexer": "ipython3",
   "version": "3.13.5"
  }
 },
 "nbformat": 4,
 "nbformat_minor": 5
}
